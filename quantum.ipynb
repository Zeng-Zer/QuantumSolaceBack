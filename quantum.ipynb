{
 "cells": [
  {
   "cell_type": "markdown",
   "metadata": {
    "collapsed": false
   },
   "source": [
    "# Quantum Solace - Educational quantum game for Epitech courses"
   ]
  },
  {
   "cell_type": "markdown",
   "metadata": {
    "collapsed": false
   },
   "source": [
    "This project is a pedagogy based game when you can play and try to make circuits with quantum games in order to familar yourself with quantum's concept.\n",
    "\n",
    "We are three students from Epitech, David Zeng, Benjamin Audet, Patrick BUI, and we choose to make this project for our courses in order to help any new learner about Quantum."
   ]
  },
  {
   "cell_type": "markdown",
   "metadata": {
    "collapsed": false
   },
   "source": [
    "# Context"
   ]
  },
  {
   "cell_type": "markdown",
   "metadata": {
    "collapsed": false
   },
   "source": [
    "This following snippet is explaining how we are using the circuit built by the user on the Web Interface to an exploitable working circuit running under Qiskit. This allow to test his circuit and check if the result is right compared to the expected output.\n",
    "At the end, We feedback the user with the plot of his circuit."
   ]
  },
  {
   "cell_type": "markdown",
   "metadata": {
    "collapsed": false
   },
   "source": [
    "### Imports\n",
    "\n",
    "Essential tools to generate qiskit circuits"
   ]
  },
  {
   "cell_type": "code",
   "execution_count": 1,
   "metadata": {
    "collapsed": false
   },
   "outputs": [
   ],
   "source": [
    "from qiskit import QuantumCircuit, QuantumRegister, ClassicalRegister, Aer, execute\n",
    "from qiskit.visualization import plot_histogram\n",
    "import circuit as C\n",
    "import base64\n",
    "import io\n",
    "\n",
    "Circuit = C.Circuit\n",
    "Gate = C.Gate"
   ]
  },
  {
   "cell_type": "markdown",
   "metadata": {
    "collapsed": false
   },
   "source": [
    "### Mapping of each gate to the corresponding Qiskit action\n",
    "\n",
    "We handle the following gates and/or actions:\n",
    "  - Barrier\n",
    "  - H gate\n",
    "  - CX gate\n",
    "  - Z gate\n",
    "  - X gate"
   ]
  },
  {
   "cell_type": "code",
   "execution_count": 0,
   "metadata": {
    "collapsed": false
   },
   "outputs": [
   ],
   "source": [
    "def getActionParams(qc: QuantumCircuit, gate: Gate):\n",
    "    actions = {\n",
    "        \"barrier\": qc.barrier,\n",
    "        \"H\": qc.h,\n",
    "        \"CX\": qc.cx,\n",
    "        \"Z\": qc.z,\n",
    "        \"X\": qc.x\n",
    "    }\n",
    "    action = actions.get(gate.name)\n",
    "    source = gate.option == \"control\" or (gate.option != \"target\" and action != None)\n",
    "    target = gate.option == \"target\"\n",
    "    return action, source, target"
   ]
  },
  {
   "cell_type": "markdown",
   "metadata": {
    "collapsed": false
   },
   "source": [
    "### Run Simulation and generate Qiskit circuit\n",
    "\n",
    "Convert user gates to qiskit circuit and run it on local quantum simulator.\\\n",
    "We generate the state vector for the bloch sphere.\\\n",
    "We measure each register at the end.\\\n",
    "The circuit is run with 1024 shots."
   ]
  },
  {
   "cell_type": "code",
   "execution_count": 0,
   "metadata": {
    "collapsed": false
   },
   "outputs": [
   ],
   "source": [
    "def runSimulation(circuit: Circuit):\n",
    "    nbRegisters = len(circuit.registers)\n",
    "    nbGates = len(circuit.registers[0].gates)\n",
    "\n",
    "    qc = QuantumCircuit(nbRegisters, nbRegisters)\n",
    "\n",
    "    for i_gate in range(nbGates):\n",
    "        source = -1\n",
    "        target = -1\n",
    "        action = None\n",
    "        for i_reg in range(len(circuit.registers)):\n",
    "            register = circuit.registers[i_reg]\n",
    "            gate = register.gates[i_gate]\n",
    "            if gate != None:\n",
    "                a, s, t = getActionParams(qc, gate)\n",
    "                if a != None:\n",
    "                    action = a\n",
    "                if s == True:\n",
    "                    source = i_reg\n",
    "                if t == True:\n",
    "                    target = i_reg\n",
    "        if action != None and target == -1:\n",
    "            action(source)\n",
    "        elif action != None:\n",
    "            action(source, target)\n",
    "\n",
    "    job = execute(qc, Aer.get_backend(\"statevector_simulator\"))\n",
    "    statevector = job.result().get_statevector()\n",
    "\n",
    "    for i in range(nbRegisters):\n",
    "        qc.measure(i, i)\n",
    "\n",
    "    backend = Aer.get_backend(\"qasm_simulator\")\n",
    "    job = execute(qc, backend, shots=1024)\n",
    "    result = job.result()\n",
    "    count = result.get_counts(qc)\n",
    "    return count, statevector"
   ]
  },
  {
   "cell_type": "markdown",
   "metadata": {
    "collapsed": false
   },
   "source": [
    "### Generate Plot from the circuit\n",
    "Generate a plot from the qiskit circuit result that will be sent and displayed on the user interface.\\\n",
    "For the level 1 circuit, we generate the bloch sphere of the qubit.\\\n",
    "For the others, we generate the histogram plot."
   ]
  },
  {
   "cell_type": "code",
   "execution_count": 0,
   "metadata": {
    "collapsed": false
   },
   "outputs": [
   ],
   "source": [
    "def getBase64Plot(count, statevector, level):\n",
    "    ioBytes = io.BytesIO()\n",
    "    if level == 1:\n",
    "        fig = plot_bloch_multivector(statevector)\n",
    "    else:\n",
    "        fig = plot_histogram(count)\n",
    "    fig.savefig(ioBytes, format = 'png')\n",
    "    ioBytes.seek(0)\n",
    "    encodedPlot = base64.b64encode(ioBytes.read())\n",
    "    return encodedPlot.decode('utf-8')"
   ]
  }
 ],
 "metadata": {
  "kernelspec": {
   "display_name": "Python 3 (system-wide)",
   "language": "python",
   "metadata": {
    "cocalc": {
     "description": "Python 3 programming language",
     "priority": 100,
     "url": "https://www.python.org/"
    }
   },
   "name": "python3"
  },
  "language_info": {
   "codemirror_mode": {
    "name": "ipython",
    "version": 3
   },
   "file_extension": ".py",
   "mimetype": "text/x-python",
   "name": "python",
   "nbconvert_exporter": "python",
   "pygments_lexer": "ipython3",
   "version": "3.6.9"
  }
 },
 "nbformat": 4,
 "nbformat_minor": 0
}